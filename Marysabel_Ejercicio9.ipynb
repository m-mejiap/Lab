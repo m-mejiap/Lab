{
 "cells": [
  {
   "cell_type": "code",
   "execution_count": 4,
   "metadata": {},
   "outputs": [],
   "source": [
    "import numpy as np\n",
    "import matplotlib.pylab as plt"
   ]
  },
  {
   "cell_type": "code",
   "execution_count": 5,
   "metadata": {},
   "outputs": [],
   "source": [
    "def predict(alpha, X, kernel, x):\n",
    "    K=[]\n",
    "    for i in range(len(X)):\n",
    "        K.append(kernel(X[i],x))\n",
    "    K=np.array(K)\n",
    "    result = np.dot(alpha,K)\n",
    "    return result\n",
    "\n",
    "def loss(alpha, X, kernel, x, y):\n",
    "    E=np.abs(y-predict(alpha,X,kernel,x))\n",
    "    return  E\n",
    "\n",
    "def num_de_dalpha(alpha, X, kernel, x, y, epsilon):\n",
    "    vect = np.zeros(len(alpha))\n",
    "    delta = np.identity(len(alpha))*epsilon\n",
    "    for i in range(len(alpha)):\n",
    "        vect[i] = (loss(alpha+delta[i,:],X,kernel,x,y)-(loss(alpha-delta[i,:],X,kernel,x,y)))/(2*epsilon)\n",
    "    return vect\n",
    "\n",
    "def k1(x, y):\n",
    "    return np.dot(x, y)\n",
    "\n",
    "def k2(x, y):\n",
    "    return (np.dot(x, y) + 1) ** 2\n",
    "\n",
    "def de_dalpha(alpha, X, kernel, x, y):\n",
    "    K=[]\n",
    "    for i in range(len(X)):\n",
    "        K.append(kernel(X[i],x))\n",
    "    K=np.array(K)\n",
    "    de = -np.sign(y-predict(alpha, X, kernel, x))*K\n",
    "    return de\n",
    "\n",
    "def test_de_dalpha(kernel):\n",
    "    num_tests = 100\n",
    "    epsilon = 0.0001\n",
    "    X = [[-2, -1],\n",
    "         [-1, 3],\n",
    "         [2.5, -1.5],\n",
    "         [4, 2]]\n",
    "    for i in range(num_tests):\n",
    "        talpha = np.random.randn(len(X))\n",
    "        tx = np.random.randn(2)\n",
    "        ty = np.random.randn(1)\n",
    "        if np.linalg.norm(de_dalpha(talpha, X, kernel, tx, ty) - \n",
    "                          num_de_dalpha(talpha, X, kernel, tx, ty, epsilon)) > epsilon:\n",
    "            return False\n",
    "    return True\n",
    "\n",
    "def test2():\n",
    "    return test_de_dalpha(k1) and test_de_dalpha(k2)"
   ]
  },
  {
   "cell_type": "code",
   "execution_count": 6,
   "metadata": {},
   "outputs": [
    {
     "data": {
      "text/plain": [
       "True"
      ]
     },
     "execution_count": 6,
     "metadata": {},
     "output_type": "execute_result"
    }
   ],
   "source": [
    "test2()"
   ]
  },
  {
   "cell_type": "code",
   "execution_count": 11,
   "metadata": {},
   "outputs": [],
   "source": [
    "def train(X, Y, epochs, eta, alpha_ini, kernel):\n",
    "    losses = []\n",
    "    alpha = alpha_ini\n",
    "    epsilon = 0.00001\n",
    "    for epoch in range(epochs):\n",
    "        loss_tmp=0\n",
    "        for j in range(len(X)):\n",
    "            #forward propagation\n",
    "            prediction=predict(alpha,X,kernel,X[j])\n",
    "            alpha-=eta*num_de_dalpha(alpha, X, kernel, X[j], Y[j], epsilon)\n",
    "        for j in range(len(X)):\n",
    "            loss_tmp+=loss(alpha, X, kernel, X[j], Y[j])\n",
    "        losses.append(loss_tmp)   \n",
    "    return alpha, losses"
   ]
  },
  {
   "cell_type": "code",
   "execution_count": 12,
   "metadata": {},
   "outputs": [],
   "source": [
    "X = [[-2, -1],\n",
    "     [-1, 3],\n",
    "     [2.5, -1.5],\n",
    "     [4, 2]]\n",
    "Y = [1, 1, 1, -1]"
   ]
  },
  {
   "cell_type": "code",
   "execution_count": 19,
   "metadata": {},
   "outputs": [],
   "source": [
    "alpha, losses = train(X, Y, 1000, 0.00001, [0.1,0.0,-0.1,0.0], k2)"
   ]
  },
  {
   "cell_type": "code",
   "execution_count": 20,
   "metadata": {},
   "outputs": [
    {
     "data": {
      "text/plain": [
       "[<matplotlib.lines.Line2D at 0x7fc02432cac8>]"
      ]
     },
     "execution_count": 20,
     "metadata": {},
     "output_type": "execute_result"
    },
    {
     "data": {
      "image/png": "[encoded data removed]",
      "text/plain": [
       "<Figure size 432x288 with 1 Axes>"
      ]
     },
     "metadata": {
      "needs_background": "light"
     },
     "output_type": "display_data"
    }
   ],
   "source": [
    "plt.plot(losses)"
   ]
  },
  {
   "cell_type": "code",
   "execution_count": 23,
   "metadata": {},
   "outputs": [
    {
     "name": "stdout",
     "output_type": "stream",
     "text": [
      "Prediction: 1.424474211923553 / Real value: 1\n",
      "Prediction: 1.0213391685373598 / Real value: 1\n",
      "Prediction: 1.238244833052103 / Real value: 1\n",
      "Prediction: 1.0334393222806808 / Real value: -1\n"
     ]
    }
   ],
   "source": [
    "aux = 0 \n",
    "for x in X:\n",
    "    print(\"Prediction:\", predict(alpha,X,k2,x), \"/ Real value:\", Y[aux])\n",
    "    aux+=1"
   ]
  },
  {
   "cell_type": "code",
   "execution_count": null,
   "metadata": {},
   "outputs": [],
   "source": []
  }
 ],
 "metadata": {
  "kernelspec": {
   "display_name": "Python 3",
   "language": "python",
   "name": "python3"
  }
 },
 "nbformat": 4,
 "nbformat_minor": 2
}
