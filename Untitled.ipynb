{
 "cells": [
  {
   "cell_type": "code",
   "execution_count": 1,
   "metadata": {},
   "outputs": [
    {
     "data": {
      "text/plain": [
       "[1, 1, 1, 3, 5, 9, 17, 31, 57, 105]"
      ]
     },
     "execution_count": 1,
     "metadata": {},
     "output_type": "execute_result"
    }
   ],
   "source": [
    "def tribonacci(signature, n):\n",
    "    if(n == 0): return []\n",
    "    if(n < 3): return signature[:n]\n",
    "    else: \n",
    "        while(len(signature)<n): \n",
    "            signature.append(sum(signature[-3:])) \n",
    "        return signature\n",
    "    \n",
    "tribonacci([1,1,1], 10)"
   ]
  },
  {
   "cell_type": "code",
   "execution_count": 2,
   "metadata": {},
   "outputs": [
    {
     "data": {
      "text/plain": [
       "'Thi1s is2 3a T4est'"
      ]
     },
     "execution_count": 2,
     "metadata": {},
     "output_type": "execute_result"
    }
   ],
   "source": [
    "def order(sentence):\n",
    "    s = sentence.split()\n",
    "    rr = \"\"\n",
    "    for i in range(len(s)+1):\n",
    "        for j in range(len(s)):\n",
    "            for k in range(len(s[j])):\n",
    "                if(s[j][k] == str(i)):\n",
    "                    if(i==len(s)):\n",
    "                        rr = rr + s[j]\n",
    "                    else:\n",
    "                         rr = rr + s[j] + \" \"\n",
    "    return rr\n",
    "\n",
    "order(\"is2 Thi1s T4est 3a\")"
   ]
  },
  {
   "cell_type": "code",
   "execution_count": 3,
   "metadata": {},
   "outputs": [
    {
     "data": {
      "text/plain": [
       "'abdefgilnoprstu'"
      ]
     },
     "execution_count": 3,
     "metadata": {},
     "output_type": "execute_result"
    }
   ],
   "source": [
    "def longest(s1, s2):\n",
    "    final = \"\"\n",
    "    if(len(s1)>len(s2)): \n",
    "        for i in (\"\".join(sorted(s1))):\n",
    "            if i not in final:\n",
    "                final = final + i\n",
    "    else: \n",
    "        for i in (\"\".join(sorted(s2))):\n",
    "            if i not in final:\n",
    "                final = final + i\n",
    "    return final\n",
    "\n",
    "longest(\"loopingisfunbutdangerous\", \"lessdangerousthancoding\")"
   ]
  },
  {
   "cell_type": "code",
   "execution_count": null,
   "metadata": {},
   "outputs": [],
   "source": [
    "s"
   ]
  }
 ],
 "metadata": {
  "kernelspec": {
   "display_name": "Python 3",
   "language": "python",
   "name": "python3"
  },
  "language_info": {
   "codemirror_mode": {
    "name": "ipython",
    "version": 3
   },
   "file_extension": ".py",
   "mimetype": "text/x-python",
   "name": "python",
   "nbconvert_exporter": "python",
   "pygments_lexer": "ipython3",
   "version": "3.7.3"
  }
 },
 "nbformat": 4,
 "nbformat_minor": 2
}
