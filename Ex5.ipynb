{
 "cells": [
  {
   "cell_type": "code",
   "execution_count": 1,
   "metadata": {},
   "outputs": [],
   "source": [
    "import numpy as np\n",
    "import matplotlib.pylab as plt"
   ]
  },
  {
   "cell_type": "markdown",
   "metadata": {},
   "source": [
    "# Exercise 5: Markov chains and detailed balance."
   ]
  },
  {
   "cell_type": "markdown",
   "metadata": {},
   "source": [
    "## 1. rms deviation."
   ]
  },
  {
   "cell_type": "code",
   "execution_count": 2,
   "metadata": {},
   "outputs": [
    {
     "name": "stdout",
     "output_type": "stream",
     "text": [
      "3.183\n"
     ]
    }
   ],
   "source": [
    "import random\n",
    "n_trials = 4000\n",
    "n_hits = 0\n",
    "for iteration in range(n_trials):\n",
    "    x, y = random.uniform(-1.0, 1.0), random.uniform(-1.0, 1.0)\n",
    "    if x**2 + y**2 < 1.0: \n",
    "        n_hits += 1\n",
    "print (4.0 * n_hits / float(n_trials))"
   ]
  },
  {
   "cell_type": "code",
   "execution_count": 3,
   "metadata": {},
   "outputs": [],
   "source": [
    "def direct_pi(N):\n",
    "    n_hits = 0\n",
    "    for i in range(N):\n",
    "        x, y = random.uniform(-1.0, 1.0), random.uniform(-1.0, 1.0)\n",
    "        if x ** 2 + y ** 2 < 1.0:\n",
    "            n_hits += 1\n",
    "    return n_hits\n",
    "\n",
    "n_runs = 500\n",
    "data = []\n",
    "t = []\n",
    "for i in range(4,13):\n",
    "    n_trials = 2**i\n",
    "    t.append(n_trials)\n",
    "    s = []\n",
    "    for run in range(n_runs):\n",
    "        x = 4.0 * direct_pi(n_trials) / float(n_trials)\n",
    "        s.append(np.abs(x - np.pi)/n_trials)\n",
    "    data.append(np.sum(s))"
   ]
  },
  {
   "cell_type": "code",
   "execution_count": 4,
   "metadata": {},
   "outputs": [
    {
     "data": {
      "image/png": "[encoded data removed]",
      "text/plain": [
       "<Figure size 432x288 with 1 Axes>"
      ]
     },
     "metadata": {
      "needs_background": "light"
     },
     "output_type": "display_data"
    }
   ],
   "source": [
    "plt.figure()\n",
    "plt.plot(t,data,\".-k\")\n",
    "plt.xscale('log')\n",
    "plt.yscale('log')\n",
    "plt.xlabel(\"Number of trials.\")\n",
    "plt.ylabel(\"Root mean square deviation.\")\n",
    "plt.title(\"Direct sampling of pi: rms deviation vs n_trials.\")\n",
    "plt.show()"
   ]
  },
  {
   "cell_type": "markdown",
   "metadata": {},
   "source": [
    "Using log-log we can see linear behaviour. Acording to that, we can conclude there is an exponential derease of the root mean square deviation as we increase the number of trials. Besides, it converges to 0."
   ]
  },
  {
   "cell_type": "markdown",
   "metadata": {},
   "source": [
    "## 2. Other way to compute 𝜋 Markov chain."
   ]
  },
  {
   "cell_type": "markdown",
   "metadata": {},
   "source": [
    "1. _First implementation where if an edge is reached and the next move is outside the square, then it will re restarted and that try will not be taken into account._"
   ]
  },
  {
   "cell_type": "code",
   "execution_count": 5,
   "metadata": {},
   "outputs": [],
   "source": [
    "def square(l, pasos, sigma):\n",
    "    initial = (10*np.random.random(),10*np.random.random())\n",
    "    walk = np.zeros((pasos,2))\n",
    "    walk[0] = initial\n",
    "    a = initial\n",
    "    for i in range(1,pasos):\n",
    "        prob = 4*np.random.random()\n",
    "        if(prob<1):\n",
    "            new = (initial[0], initial[1]+sigma)\n",
    "        if(prob>1 and prob<2):\n",
    "            new = (initial[0], initial[1]-sigma)\n",
    "        if(prob>2 and prob<3):\n",
    "            new = (initial[0]+sigma, initial[1])\n",
    "        if(prob>3):\n",
    "            new = (initial[0]-sigma, initial[1])\n",
    "        if(new[0]>l or new[0]<0 or new[1]>l or new[1]<0):\n",
    "            new = a\n",
    "        walk[i] = new\n",
    "        initial = new\n",
    "    return walk"
   ]
  },
  {
   "cell_type": "code",
   "execution_count": 6,
   "metadata": {},
   "outputs": [
    {
     "data": {
      "image/png": "[encoded data removed]",
      "text/plain": [
       "<Figure size 360x360 with 1 Axes>"
      ]
     },
     "metadata": {
      "needs_background": "light"
     },
     "output_type": "display_data"
    }
   ],
   "source": [
    "datam = square(10, 100, 1.4)\n",
    "\n",
    "plt.figure(figsize=(5,5))\n",
    "plt.plot(datam[:,0],datam[:,1], '.--', color=\"dodgerblue\")\n",
    "plt.plot([0,0,10,10,0],[0,10,10,0,0], color=\"orange\")\n",
    "plt.show()"
   ]
  },
  {
   "cell_type": "markdown",
   "metadata": {},
   "source": [
    "2. _Implement a function as the one before but this time if you reach an edge and you choose a step such that takes you outside the squared you decide to stay in the same pint but you take into account that try._"
   ]
  },
  {
   "cell_type": "code",
   "execution_count": 7,
   "metadata": {},
   "outputs": [],
   "source": [
    "def square2(l, pasos, sigma):\n",
    "    initial = (10*np.random.random(),10*np.random.random())\n",
    "    walk = np.zeros((pasos,2))\n",
    "    walk[0] = initial\n",
    "    a = initial\n",
    "    for i in range(1,pasos):\n",
    "        prob = 4*np.random.random()\n",
    "        if(prob<1):\n",
    "            new = (initial[0], initial[1]+sigma)\n",
    "        if(prob>1 and prob<2):\n",
    "            new = (initial[0], initial[1]-sigma)\n",
    "        if(prob>2 and prob<3):\n",
    "            new = (initial[0]+sigma, initial[1])\n",
    "        if(prob>3):\n",
    "            new = (initial[0]-sigma, initial[1])\n",
    "        if(new[0]>l or new[0]<0 or new[1]>l or new[1]<0):\n",
    "            new = initial\n",
    "        walk[i] = new\n",
    "        initial = new\n",
    "    return walk"
   ]
  },
  {
   "cell_type": "code",
   "execution_count": 8,
   "metadata": {},
   "outputs": [
    {
     "data": {
      "image/png": "[encoded data removed]",
      "text/plain": [
       "<Figure size 360x360 with 1 Axes>"
      ]
     },
     "metadata": {
      "needs_background": "light"
     },
     "output_type": "display_data"
    }
   ],
   "source": [
    "data2 = square2(10, 100,1.4)\n",
    "\n",
    "plt.figure(figsize=(5,5))\n",
    "plt.plot(data2[:,0],data2[:,1], '.--', color=\"dodgerblue\")\n",
    "plt.plot([0,0,10,10,0],[0,10,10,0,0], color=\"orange\")\n",
    "plt.show()"
   ]
  },
  {
   "cell_type": "markdown",
   "metadata": {},
   "source": [
    "3. _Compare the results._"
   ]
  },
  {
   "cell_type": "markdown",
   "metadata": {},
   "source": [
    "There will be more n_hints using the first method due to the condition of returning each time the coordinates reach an edge. Therefore, the rms might increase if we guess pi by using the first implementation."
   ]
  },
  {
   "cell_type": "markdown",
   "metadata": {},
   "source": [
    "4. _Use the code implemented in 2, and choose different size of step 𝛿 and compute the rms as before and plot again using log-log scaling, use a number of steps ntrials = 2^4, 2^5,...,2^12._"
   ]
  },
  {
   "cell_type": "code",
   "execution_count": 9,
   "metadata": {},
   "outputs": [],
   "source": [
    "def sigma1(N,sigma):\n",
    "    n_hits = 0\n",
    "    data = square2(10, N, sigma)\n",
    "    for i in range(N):\n",
    "        if (data[i,0]-5) ** 2 + (data[i,1]-5) ** 2 < 25:\n",
    "            n_hits += 1\n",
    "    return n_hits\n",
    "\n",
    "def err(met,sigma):\n",
    "    n_runs = 500\n",
    "    data = []\n",
    "    t = []\n",
    "    for i in range(4,13):\n",
    "        n_trials = 2**i\n",
    "        t.append(n_trials)\n",
    "        s = []\n",
    "        for run in range(n_runs):\n",
    "            x = 4.0 * met(n_trials,sigma) / float(n_trials)\n",
    "            s.append(np.abs(x - np.pi)/n_trials)\n",
    "        data.append(np.sum(s))\n",
    "    return data"
   ]
  },
  {
   "cell_type": "code",
   "execution_count": 12,
   "metadata": {},
   "outputs": [
    {
     "data": {
      "image/png": "[encoded data removed]",
      "text/plain": [
       "<Figure size 432x288 with 1 Axes>"
      ]
     },
     "metadata": {
      "needs_background": "light"
     },
     "output_type": "display_data"
    }
   ],
   "source": [
    "plt.figure()\n",
    "plt.plot(t,data,\".-k\", label=\"Direct.\")\n",
    "plt.scatter(t,err(sigma1,4.0), color='orchid', label=\"sigma = 4.0\")\n",
    "plt.scatter(t,err(sigma1,2.0), color='sienna', label=\"sigma = 2.0\")\n",
    "plt.scatter(t,err(sigma1,1.0), color='indigo', label=\"sigma = 1.0\")\n",
    "plt.scatter(t,err(sigma1,0.5), color='red', label=\"sigma = 0.5\")\n",
    "plt.scatter(t,err(sigma1,0.25), color='green', label=\"sigma = 0.25\")\n",
    "plt.scatter(t,err(sigma1,0.125), color='orange', label=\"sigma = 0.125\")\n",
    "plt.scatter(t,err(sigma1,0.062), color='blue', label=\"sigma = 0.063\")\n",
    "plt.xscale('log')\n",
    "plt.yscale('log')\n",
    "plt.xlabel(\"Number of trials.\")\n",
    "plt.ylabel(\"Root mean square deviation.\")\n",
    "plt.title(\"Direct sampling of pi: rms deviation vs n_trials.\")\n",
    "plt.legend()\n",
    "plt.show()"
   ]
  },
  {
   "cell_type": "markdown",
   "metadata": {},
   "source": [
    "- _Which of the values of delta gives the most precise results?_ 𝛿 = 1 and 𝛿 = 2.\n",
    "- _Explain why VERY small values of delta and VERY large values of delta yield a less precise result than intermediate values._ That's because very small values don't go out a same area so quickly, and very large values keep throwing steps that are beyond the limits of the circle, letting the values always around the edges.\n",
    "- _Explain in a few words why the error is larger than for the direct sampling algorithm, even for the optimal value of delta._ That happens due to the way in which the random numbers are being generated in each case. For the second algorithm, the next number always depends on the immediately previous value."
   ]
  },
  {
   "cell_type": "markdown",
   "metadata": {},
   "source": [
    "## 3. Ball."
   ]
  },
  {
   "cell_type": "code",
   "execution_count": 4,
   "metadata": {},
   "outputs": [
    {
     "name": "stdout",
     "output_type": "stream",
     "text": [
      "0 [1 1]\n",
      "1 (1, 0)\n",
      "2 (2, 0)\n",
      "3 (2, 0)\n",
      "4 (1, 0)\n",
      "5 (1, 0)\n",
      "6 (2, 0)\n",
      "7 (2, 1)\n",
      "8 (2, 1)\n",
      "9 (2, 2)\n",
      "10 (2, 2)\n",
      "11 (2, 2)\n",
      "12 (2, 2)\n",
      "13 (2, 2)\n",
      "14 (1, 2)\n",
      "15 (1, 2)\n",
      "16 (2, 2)\n",
      "17 (2, 2)\n",
      "18 (1, 2)\n",
      "19 (0, 2)\n",
      "20 (0, 2)\n"
     ]
    }
   ],
   "source": [
    "actual = np.array([np.random.randint(0,3),np.random.randint(0,3)])\n",
    "print(0,actual)\n",
    "for i in range(0,20):\n",
    "    proba = 4*np.random.random()\n",
    "    if(actual[0] == 0 and actual[1]==0):\n",
    "        if(proba<2):\n",
    "            new = actual\n",
    "        if(proba>2 and proba<3):\n",
    "            new = (actual[0]+1,actual[1])\n",
    "        if(proba>3):\n",
    "            new = (actual[0],actual[1]+1)\n",
    "    elif(actual[0] == 2 and actual[1]==0):\n",
    "        if(proba<2):\n",
    "            new = actual\n",
    "        if(proba>2 and proba<3):\n",
    "            new = (actual[0]-1,actual[1])\n",
    "        if(proba>3):\n",
    "            new = (actual[0],actual[1]+1)\n",
    "    elif(actual[0] == 2 and actual[1]==2):\n",
    "        if(proba<2):\n",
    "            new = actual\n",
    "        if(proba>2 and proba<3):\n",
    "            new = (actual[0]-1,actual[1])\n",
    "        if(proba>3):\n",
    "            new = (actual[0],actual[1]-1)\n",
    "    elif(actual[0] == 0 and actual[1]==2):\n",
    "        if(proba<2):\n",
    "            new = actual\n",
    "        if(proba>2 and proba<3):\n",
    "            new = (actual[0]+1,actual[1])\n",
    "        if(proba>3):\n",
    "            new = (actual[0],actual[1]-1)\n",
    "    elif(actual[0] == 0 and actual[1]==1):\n",
    "        if(proba<1):\n",
    "            new = actual\n",
    "        if(proba>1 and proba<2):\n",
    "            new = (actual[0]+1,actual[1])\n",
    "        if(proba>2 and proba<3):\n",
    "            new = (actual[0],actual[1]-1)\n",
    "        if(proba>3):\n",
    "            new = (actual[0],actual[1]+1)\n",
    "    elif(actual[0] == 1 and actual[1]==0):\n",
    "        if(proba<1):\n",
    "            new = actual\n",
    "        if(proba>1 and proba<2):\n",
    "            new = (actual[0]+1,actual[1])\n",
    "        if(proba>2 and proba<3):\n",
    "            new = (actual[0]-1,actual[1])\n",
    "        if(proba>3):\n",
    "            new = (actual[0],actual[1]+1)\n",
    "    elif(actual[0] == 1 and actual[1]==2):\n",
    "        if(proba<1):\n",
    "            new = actual\n",
    "        if(proba>1 and proba<2):\n",
    "            new = (actual[0]+1,actual[1])\n",
    "        if(proba>2 and proba<3):\n",
    "            new = (actual[0]-1,actual[1])\n",
    "        if(proba>3):\n",
    "            new = (actual[0],actual[1]-1)\n",
    "    elif(actual[0] == 2 and actual[1]==1):\n",
    "        if(proba<1):\n",
    "            new = actual\n",
    "        if(proba>1 and proba<2):\n",
    "            new = (actual[0]-1,actual[1])\n",
    "        if(proba>2 and proba<3):\n",
    "            new = (actual[0],actual[1]+1)\n",
    "        if(proba>3):\n",
    "            new = (actual[0],actual[1]-1)\n",
    "    elif(actual[0] == 1 and actual[1]==1):\n",
    "        if(proba<1):\n",
    "            new = (actual[0]+1,actual[1])\n",
    "        if(proba>1 and proba<2):\n",
    "            new = (actual[0]-1,actual[1])\n",
    "        if(proba>2 and proba<3):\n",
    "            new = (actual[0],actual[1]+1)\n",
    "        if(proba>3):\n",
    "            new = (actual[0],actual[1]-1)\n",
    "    print(i+1, new)   \n",
    "    actual = new"
   ]
  }
 ],
 "metadata": {
  "kernelspec": {
   "display_name": "Python 3",
   "language": "python",
   "name": "python3"
  },
  "language_info": {
   "codemirror_mode": {
    "name": "ipython",
    "version": 3
   },
   "file_extension": ".py",
   "mimetype": "text/x-python",
   "name": "python",
   "nbconvert_exporter": "python",
   "pygments_lexer": "ipython3",
   "version": "3.7.3"
  }
 },
 "nbformat": 4,
 "nbformat_minor": 2
}
