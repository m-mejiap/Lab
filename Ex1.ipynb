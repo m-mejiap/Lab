{
 "cells": [
  {
   "cell_type": "markdown",
   "metadata": {},
   "source": [
    "# Exercise 1: Lists, functions, strings."
   ]
  },
  {
   "cell_type": "markdown",
   "metadata": {},
   "source": [
    "## 1. Fibonacci Problem."
   ]
  },
  {
   "cell_type": "code",
   "execution_count": 19,
   "metadata": {},
   "outputs": [],
   "source": [
    "import numpy as np\n",
    "import matplotlib.pylab as plt\n",
    "import time"
   ]
  },
  {
   "cell_type": "code",
   "execution_count": 20,
   "metadata": {},
   "outputs": [],
   "source": [
    "#1. Define recursive function.\n",
    "def fib_recursion(n): \n",
    "    if (n == 0):\n",
    "        n_fibonacci = 0\n",
    "    if (n == 1):\n",
    "        n_fibonacci = 1\n",
    "    if (n >= 2):\n",
    "        n_fibonacci = fib_recursion(n-1) + fib_recursion(n-2)\n",
    "    return n_fibonacci"
   ]
  },
  {
   "cell_type": "code",
   "execution_count": 21,
   "metadata": {},
   "outputs": [
    {
     "data": {
      "image/png": "[encoded data removed]",
      "text/plain": [
       "<Figure size 432x288 with 1 Axes>"
      ]
     },
     "metadata": {
      "needs_background": "light"
     },
     "output_type": "display_data"
    }
   ],
   "source": [
    "#2. Time registration.\n",
    "list_of_n = []\n",
    "list_of_times = []\n",
    "\n",
    "for i in range(40):\n",
    "    init=time.time()\n",
    "    fib_recursion(i)\n",
    "    difference_time=time.time()-init\n",
    "    list_of_n.append(i)\n",
    "    list_of_times.append(difference_time)\n",
    "    \n",
    "plt.figure()\n",
    "plt.plot(list_of_n,list_of_times, '.', color=\"black\")\n",
    "plt.show()"
   ]
  },
  {
   "cell_type": "code",
   "execution_count": 22,
   "metadata": {},
   "outputs": [],
   "source": [
    "#3. Fibonacci's optimization.\n",
    "def fib_optimized(n):\n",
    "    a = 1\n",
    "    b = 0\n",
    "    i = 0\n",
    "    if(n == 0):\n",
    "        n_fibonacci = 0\n",
    "    else:\n",
    "        while i < n:\n",
    "            n_fibonacci = a\n",
    "            a,b = a+b,a\n",
    "            i = i + 1\n",
    "    return n_fibonacci"
   ]
  },
  {
   "cell_type": "code",
   "execution_count": null,
   "metadata": {},
   "outputs": [],
   "source": [
    "#4. Comparison between both methods.\n",
    "list_of_n2 = []\n",
    "list_of_times2 = []\n",
    "\n",
    "for i in range(100):\n",
    "    init=time.time()\n",
    "    fib_recursion(i)\n",
    "    difference_time=time.time()-init\n",
    "    list_of_n2.append(i)\n",
    "    list_of_times2.append(difference_time)\n",
    "    \n",
    "plt.figure()\n",
    "plt.plot(list_of_n2,list_of_times2, '.', color=\"black\")\n",
    "plt.show()"
   ]
  },
  {
   "cell_type": "code",
   "execution_count": null,
   "metadata": {},
   "outputs": [],
   "source": []
  }
 ],
 "metadata": {
  "kernelspec": {
   "display_name": "Python 3",
   "language": "python",
   "name": "python3"
  },
  "language_info": {
   "codemirror_mode": {
    "name": "ipython",
    "version": 3
   },
   "file_extension": ".py",
   "mimetype": "text/x-python",
   "name": "python",
   "nbconvert_exporter": "python",
   "pygments_lexer": "ipython3",
   "version": "3.7.3"
  }
 },
 "nbformat": 4,
 "nbformat_minor": 2
}
