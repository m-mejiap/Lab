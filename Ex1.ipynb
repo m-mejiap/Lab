{
 "cells": [
  {
   "cell_type": "markdown",
   "metadata": {},
   "source": [
    "# Exercise 1: Lists, functions, strings."
   ]
  },
  {
   "cell_type": "markdown",
   "metadata": {},
   "source": [
    "## 1. Fibonacci Problem."
   ]
  },
  {
   "cell_type": "code",
   "execution_count": 1,
   "metadata": {},
   "outputs": [],
   "source": [
    "import numpy as np\n",
    "import matplotlib.pylab as plt\n",
    "import time"
   ]
  },
  {
   "cell_type": "code",
   "execution_count": 2,
   "metadata": {},
   "outputs": [],
   "source": [
    "#1. Define recursive function.\n",
    "def fib_recursion(n): \n",
    "    if (n == 0):\n",
    "        n_fibonacci = 0\n",
    "    if (n == 1):\n",
    "        n_fibonacci = 1\n",
    "    if (n >= 2):\n",
    "        n_fibonacci = fib_recursion(n-1) + fib_recursion(n-2)\n",
    "    return n_fibonacci"
   ]
  },
  {
   "cell_type": "code",
   "execution_count": 10,
   "metadata": {},
   "outputs": [
    {
     "data": {
      "image/png": "[encoded data removed]",
      "text/plain": [
       "<Figure size 432x288 with 1 Axes>"
      ]
     },
     "metadata": {
      "needs_background": "light"
     },
     "output_type": "display_data"
    }
   ],
   "source": [
    "#2. Time registration.\n",
    "list_of_n = []\n",
    "list_of_times = []\n",
    "\n",
    "for i in range(40):\n",
    "    init=time.time()\n",
    "    fib_recursion(i)\n",
    "    difference_time=time.time()-init\n",
    "    list_of_n.append(i)\n",
    "    list_of_times.append(difference_time)\n",
    "    \n",
    "plt.figure()\n",
    "plt.plot(list_of_n,list_of_times, color=\"black\")\n",
    "plt.show()"
   ]
  },
  {
   "cell_type": "code",
   "execution_count": 4,
   "metadata": {},
   "outputs": [],
   "source": [
    "#3. Fibonacci's optimization.\n",
    "def fib_optimized(n):\n",
    "    a = 1\n",
    "    b = 0\n",
    "    i = 0\n",
    "    if(n == 0):\n",
    "        n_fibonacci = 0\n",
    "    else:\n",
    "        while i < n:\n",
    "            n_fibonacci = a\n",
    "            a,b = a+b,a\n",
    "            i = i + 1\n",
    "    return n_fibonacci"
   ]
  },
  {
   "cell_type": "code",
   "execution_count": 11,
   "metadata": {},
   "outputs": [
    {
     "data": {
      "image/png": "[encoded data removed]",
      "text/plain": [
       "<Figure size 432x288 with 1 Axes>"
      ]
     },
     "metadata": {
      "needs_background": "light"
     },
     "output_type": "display_data"
    }
   ],
   "source": [
    "#4. Comparison between both methods.\n",
    "list_of_n2 = []\n",
    "list_of_times2 = []\n",
    "\n",
    "for i in range(100):\n",
    "    init=time.time()\n",
    "    fib_optimized(i)\n",
    "    difference_time=time.time()-init\n",
    "    list_of_n2.append(i)\n",
    "    list_of_times2.append(difference_time)\n",
    "    \n",
    "plt.figure()\n",
    "plt.plot(list_of_n2,list_of_times2, color=\"black\")\n",
    "plt.show()"
   ]
  },
  {
   "cell_type": "markdown",
   "metadata": {},
   "source": [
    "* The main difference in both plots is the scale of time. We can notice that the second method takes less than a second computing 100 iterations, while the first one takes half a minute to compute just 40 iterations.\n",
    "\n",
    "* We can you conclude that the first method implemented is not the most eficient one to execute the Fibonacci's  sequence due to the recursive implemetation.\n",
    "\n",
    "* One of the reasons why both methods are different is that the first one keeps calling itself over and over again until it reaches the n-th interation. On the other hand, the second method is calculating a simple little loop. In despite of the fact that they both doing the same thing, the can be severely different because of the implemetation and its execution."
   ]
  },
  {
   "cell_type": "code",
   "execution_count": null,
   "metadata": {},
   "outputs": [],
   "source": []
  }
 ],
 "metadata": {
  "kernelspec": {
   "display_name": "Python 3",
   "language": "python",
   "name": "python3"
  },
  "language_info": {
   "codemirror_mode": {
    "name": "ipython",
    "version": 3
   },
   "file_extension": ".py",
   "mimetype": "text/x-python",
   "name": "python",
   "nbconvert_exporter": "python",
   "pygments_lexer": "ipython3",
   "version": "3.7.3"
  }
 },
 "nbformat": 4,
 "nbformat_minor": 2
}
